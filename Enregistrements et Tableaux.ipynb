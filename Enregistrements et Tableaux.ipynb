{
 "cells": [
  {
   "cell_type": "markdown",
   "metadata": {},
   "source": [
    "# Q1"
   ]
  },
  {
   "cell_type": "code",
   "execution_count": 3,
   "metadata": {},
   "outputs": [
    {
     "name": "stdout",
     "output_type": "stream",
     "text": [
      "{'name': 'hamouda', 'id_': 324453456543, 'mtn': 1200}\n"
     ]
    }
   ],
   "source": [
    "def bank_acount(name,id_,mtn):\n",
    "    acount={\n",
    "        \"name\":name,\n",
    "        \"id_\":id_,\n",
    "        \"mtn\":mtn\n",
    "    }\n",
    "    return acount\n",
    "a1 = bank_acount('hamouda',324453456543,1200)\n",
    "print(a1)"
   ]
  },
  {
   "cell_type": "code",
   "execution_count": 6,
   "metadata": {},
   "outputs": [
    {
     "name": "stdout",
     "output_type": "stream",
     "text": [
      "23.45.7\n"
     ]
    }
   ],
   "source": [
    "def nb_complexe(a,b1,b2):\n",
    "    return str(a)+str(b1)+str(b2)\n",
    "x = nb_complexe(2,3.4,5.7)\n",
    "print(x)"
   ]
  },
  {
   "cell_type": "code",
   "execution_count": 19,
   "metadata": {},
   "outputs": [
    {
     "name": "stdout",
     "output_type": "stream",
     "text": [
      "4 - 2 - 2002\n"
     ]
    }
   ],
   "source": [
    "def date(jour,mois,année):\n",
    "    return str(jour)+\" - \"+str(mois)+\" - \"+str(année)\n",
    "d = date(4,2,2002)\n",
    "print(d)"
   ]
  },
  {
   "cell_type": "code",
   "execution_count": 20,
   "metadata": {},
   "outputs": [
    {
     "name": "stdout",
     "output_type": "stream",
     "text": [
      "{'login': 'login', 'password': 'password', 'date': '4 - 2 - 2002'}\n"
     ]
    }
   ],
   "source": [
    "def facebook(login,password,date):\n",
    "    acount= {\n",
    "        \"login\":login,\n",
    "        \"password\":password,\n",
    "        \"date\":date\n",
    "    }\n",
    "    return acount\n",
    "fb = facebook('login','password',d)\n",
    "print(fb)"
   ]
  },
  {
   "cell_type": "markdown",
   "metadata": {},
   "source": [
    "# Q2"
   ]
  },
  {
   "cell_type": "code",
   "execution_count": 41,
   "metadata": {},
   "outputs": [
    {
     "name": "stdout",
     "output_type": "stream",
     "text": [
      "N employés = 5\n",
      "Nom et Prénom = H\n",
      "CIN =  12345678\n",
      "L’année d’embauche = 2020\n",
      "Adresse = \n",
      "N° Tel =  50774419\n",
      "Nom et Prénom = B\n",
      "CIN =  87654322\n",
      "L’année d’embauche = 2019\n",
      "Adresse = AZE\n",
      "N° Tel =  50774419\n",
      "Nom et Prénom = F\n",
      "CIN =  12345678\n",
      "L’année d’embauche = 2000\n",
      "Adresse = 1221\n",
      "N° Tel =  12345678\n",
      "Nom et Prénom = D\n",
      "CIN =  12324353\n",
      "L’année d’embauche = 2009\n",
      "Adresse = ZE2\n",
      "N° Tel =  12348765\n",
      "Nom et Prénom = AQD\n",
      "CIN =  12345687\n",
      "L’année d’embauche = 2012\n",
      "Adresse = DZ\n",
      "N° Tel =  12387654\n",
      "{'nom': 'H', 'CIN': '12345678', 'emb': 2020, 'adress': '', 'nbr': <function nbr at 0x000002072DB74790>}\n",
      "{'nom': 'B', 'CIN': '87654322', 'emb': 2019, 'adress': 'AZE', 'nbr': <function nbr at 0x000002072DB74790>}\n",
      "{'nom': 'F', 'CIN': '12345678', 'emb': 2000, 'adress': '1221', 'nbr': <function nbr at 0x000002072DB74790>}\n",
      "{'nom': 'D', 'CIN': '12324353', 'emb': 2009, 'adress': 'ZE2', 'nbr': <function nbr at 0x000002072DB74790>}\n",
      "{'nom': 'AQD', 'CIN': '12345687', 'emb': 2012, 'adress': 'DZ', 'nbr': <function nbr at 0x000002072DB74790>}\n"
     ]
    }
   ],
   "source": [
    "import datetime\n",
    "import re\n",
    "\n",
    "now = datetime.datetime.now()\n",
    "r = re.compile(\"^[a-zA-Z ]*$\")\n",
    "\n",
    "def embauche():\n",
    "    while True:\n",
    "        x = int(input('L’année d’embauche = '))\n",
    "        if x in range(2000,now.year+1):\n",
    "            return x\n",
    "    \n",
    "def name():\n",
    "    while True:\n",
    "        x = input('Nom et Prénom = ')\n",
    "        if r.match(x):\n",
    "            return x\n",
    "\n",
    "def nbr(msg):\n",
    "    while True:\n",
    "        print(msg,end = ' ')\n",
    "        x = input()\n",
    "        if len(x) == 8:\n",
    "            return x\n",
    "\n",
    "def nbemp():\n",
    "    while True:\n",
    "        N = int(input('N employés = '))\n",
    "        if N in range(5,101):\n",
    "            return N\n",
    "\n",
    "def remp(N):\n",
    "    T = []\n",
    "    for i in range(N):\n",
    "        nom = name()\n",
    "        CIN = nbr(\"CIN = \")\n",
    "        emb = embauche()\n",
    "        adress = input('Adresse = ')\n",
    "        nb = nbr(\"N° Tel = \")\n",
    "        user = {\n",
    "            \"nom\":nom,\n",
    "            \"CIN\":CIN,\n",
    "            \"emb\":emb,\n",
    "            \"adress\":adress,\n",
    "            \"nbr\":nb\n",
    "        }\n",
    "        T.append(user)\n",
    "    return T\n",
    "\n",
    "def find(T,CIN):\n",
    "    for i in range(len(T)):\n",
    "        if T[i][\"CIN\"] == CIN:\n",
    "            return T[i]\n",
    "    return 'N°CIN non valide'\n",
    "    \n",
    "N = nbemp()\n",
    "T = remp(N)\n",
    "for i in range(N):\n",
    "    print(T[i])\n",
    "F = find(T,\"12345678\")\n",
    "print(F)"
   ]
  },
  {
   "cell_type": "markdown",
   "metadata": {},
   "source": [
    "# Q3"
   ]
  },
  {
   "cell_type": "code",
   "execution_count": 45,
   "metadata": {},
   "outputs": [
    {
     "name": "stdout",
     "output_type": "stream",
     "text": [
      "N = 3\n",
      "N = 4\n",
      "N = 5\n",
      "NCIN = 1\n",
      "nom = 1\n",
      "prénom = 1\n",
      "âge = 1\n",
      "diplôme = 1\n",
      "note1\n",
      "NCIN = 2\n",
      "nom = 2\n",
      "prénom = 2\n",
      "âge = 2\n",
      "diplôme = 2\n",
      "note2\n",
      "NCIN = 3\n",
      "nom = 3\n",
      "prénom = 3\n",
      "âge = 3\n",
      "diplôme = 3\n",
      "note3\n",
      "NCIN = 3\n",
      "nom = 4\n",
      "prénom = 4\n",
      "âge = 4\n",
      "diplôme = 4\n",
      "note4\n",
      "NCIN = 4\n",
      "nom = 5\n",
      "prénom = 5\n",
      "âge = 5\n",
      "diplôme = 5\n",
      "note5\n",
      "{'NCIN': 1, 'nom': '1', 'prénom': '1', 'âge': 1, 'diplôme': '1', 'note': 1}\n",
      "{'NCIN': 2, 'nom': '2', 'prénom': '2', 'âge': 2, 'diplôme': '2', 'note': 2}\n",
      "{'NCIN': 3, 'nom': '3', 'prénom': '3', 'âge': 3, 'diplôme': '3', 'note': 3}\n",
      "{'NCIN': 3, 'nom': '4', 'prénom': '4', 'âge': 4, 'diplôme': '4', 'note': 4}\n",
      "{'NCIN': 4, 'nom': '5', 'prénom': '5', 'âge': 5, 'diplôme': '5', 'note': 5}\n"
     ]
    }
   ],
   "source": [
    "    def cand():\n",
    "        while True:\n",
    "            N = int(input('N = '))\n",
    "            if N in range(5,101):\n",
    "                return N\n",
    "\n",
    "    def remp(N):\n",
    "        T = []\n",
    "        for _ in range(N):\n",
    "            NCIN = int(input('NCIN = '))\n",
    "            nom = input('nom = ')\n",
    "            prénom = input('prénom = ')\n",
    "            âge = int(input('âge = '))\n",
    "            diplôme = input(\"diplôme = \")\n",
    "            note = int(input('note'))\n",
    "            x = {\n",
    "                'NCIN':NCIN,\n",
    "                'nom':nom,\n",
    "                'prénom':prénom,\n",
    "                'âge':âge,\n",
    "                'diplôme':diplôme,\n",
    "                'note':note\n",
    "            }\n",
    "            T.append(x)\n",
    "        return T\n",
    "    N = cand()\n",
    "    T = remp(N)\n",
    "\n",
    "\n",
    "    def sort(T):\n",
    "        for i in range(len(T) - 1):\n",
    "            for j in range(0 , len(T) - i - 1):\n",
    "\n",
    "                if T[j][\"note\"] > T[j+1][\"note\"] :\n",
    "                    T[j], T[j+1] = T[j+1], T[j]\n",
    "        return T\n",
    "\n",
    "    T = sort(T)\n",
    "    for i in range(5):\n",
    "        print(T[i])"
   ]
  },
  {
   "cell_type": "markdown",
   "metadata": {},
   "source": [
    "# Q4"
   ]
  },
  {
   "cell_type": "code",
   "execution_count": null,
   "metadata": {},
   "outputs": [],
   "source": [
    "def nbemp():\n",
    "    while True:\n",
    "        N = int(input('N employés = '))\n",
    "        if N in range(5,101):\n",
    "            return N\n",
    "#référence désignation ddv \n",
    "T=[]\n",
    "for i in range(N):\n",
    "    référence= input('référence = ')\n",
    "    désignation = input('désignation')\n",
    "    ddv = input('ddv = ')\n",
    "    art = {\n",
    "         'référence':référence,\n",
    "         'désignation':désignation,\n",
    "         'ddv':ddv\n",
    "     }\n",
    "    T.append(art)\n",
    "def find(T,key,N):\n",
    "    for i in range(N):\n",
    "        if T[i]['référence'] == key:\n",
    "            return T[i]\n",
    "    return 'err'\n",
    "print(find(T,\"azerty\",N))\n",
    "def deleteart(T,deli):\n",
    "    for i in range(len(T)):\n",
    "        if(T[i]['référence'] == deli):\n",
    "            del T[i]['référence']\n",
    "            return 'item deleted'\n",
    "    return 'item not found'\n",
    "print(deleteart(T,'azerty'))"
   ]
  }
 ],
 "metadata": {
  "kernelspec": {
   "display_name": "Python 3",
   "language": "python",
   "name": "python3"
  },
  "language_info": {
   "codemirror_mode": {
    "name": "ipython",
    "version": 3
   },
   "file_extension": ".py",
   "mimetype": "text/x-python",
   "name": "python",
   "nbconvert_exporter": "python",
   "pygments_lexer": "ipython3",
   "version": "3.8.5"
  }
 },
 "nbformat": 4,
 "nbformat_minor": 4
}
